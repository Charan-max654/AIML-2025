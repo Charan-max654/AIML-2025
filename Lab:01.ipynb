{
  "nbformat": 4,
  "nbformat_minor": 0,
  "metadata": {
    "colab": {
      "provenance": [],
      "authorship_tag": "ABX9TyM0mtoWQ0/E2EsYR8966TCs",
      "include_colab_link": true
    },
    "kernelspec": {
      "name": "python3",
      "display_name": "Python 3"
    },
    "language_info": {
      "name": "python"
    }
  },
  "cells": [
    {
      "cell_type": "markdown",
      "metadata": {
        "id": "view-in-github",
        "colab_type": "text"
      },
      "source": [
        "<a href=\"https://colab.research.google.com/github/Charan-max654/AIML-2025/blob/main/Lab%3A01.ipynb\" target=\"_parent\"><img src=\"https://colab.research.google.com/assets/colab-badge.svg\" alt=\"Open In Colab\"/></a>"
      ]
    },
    {
      "cell_type": "markdown",
      "source": [
        "Lab-01:Introduction to Python,matplotlib,Numpy\n",
        "\n"
      ],
      "metadata": {
        "id": "C48UNeA5YKHa"
      }
    },
    {
      "cell_type": "markdown",
      "source": [],
      "metadata": {
        "id": "RTztcqkwdFaI"
      }
    },
    {
      "cell_type": "markdown",
      "source": [
        "Part 1:Implement basic data structures using Numpy,Pandas"
      ],
      "metadata": {
        "id": "s9-LJIrDYgRy"
      }
    },
    {
      "cell_type": "code",
      "source": [
        "\n",
        "import numpy as np\n",
        "import matplotlib.pyplot as plt\n",
        "import pandas as pd\n",
        "\n",
        "list1 = [1,2,3,4]\n",
        "array1 = np.array(list1)\n",
        "array1\n",
        "array2=np.array([1,2,3,4])\n",
        "list, array1,array2"
      ],
      "metadata": {
        "id": "JbgENt94Ysc6",
        "colab": {
          "base_uri": "https://localhost:8080/"
        },
        "outputId": "34f8d121-7e42-4c1a-cfe8-9a616b686565"
      },
      "execution_count": 1,
      "outputs": [
        {
          "output_type": "execute_result",
          "data": {
            "text/plain": [
              "(list, array([1, 2, 3, 4]), array([1, 2, 3, 4]))"
            ]
          },
          "metadata": {},
          "execution_count": 1
        }
      ]
    },
    {
      "cell_type": "code",
      "source": [
        "## Identify the type of data structure\n",
        "type(list1), type(array1), type(array2)"
      ],
      "metadata": {
        "colab": {
          "base_uri": "https://localhost:8080/"
        },
        "id": "Lnqn7lgQckLo",
        "outputId": "cfe4c967-1011-4aea-af84-6082748453aa"
      },
      "execution_count": 2,
      "outputs": [
        {
          "output_type": "execute_result",
          "data": {
            "text/plain": [
              "(list, numpy.ndarray, numpy.ndarray)"
            ]
          },
          "metadata": {},
          "execution_count": 2
        }
      ]
    },
    {
      "cell_type": "code",
      "source": [
        "## Perform Mathematical operations on arrays, lists\n",
        "print(\"Adding two arrays: \",array1 +array2)\n",
        "print(\"Substracting two arrays:\", array1-array2)\n",
        "print(\"Multiplying two arrays: \",array1*array2)\n",
        "print(\"Dividing two arrays: \",array1/array2)\n",
        "print(\"Exponentiating two arrays: \",array1**array2)\n",
        "print(\"Multiply array to list: \",array2*list1)"
      ],
      "metadata": {
        "colab": {
          "base_uri": "https://localhost:8080/"
        },
        "id": "0akrUj4Kct7d",
        "outputId": "a1138ee7-5fd6-4d5e-fee7-8958f3ad473e"
      },
      "execution_count": 3,
      "outputs": [
        {
          "output_type": "stream",
          "name": "stdout",
          "text": [
            "Adding two arrays:  [2 4 6 8]\n",
            "Substracting two arrays: [0 0 0 0]\n",
            "Multiplying two arrays:  [ 1  4  9 16]\n",
            "Dividing two arrays:  [1. 1. 1. 1.]\n",
            "Exponentiating two arrays:  [  1   4  27 256]\n",
            "Multiply array to list:  [ 1  4  9 16]\n"
          ]
        }
      ]
    },
    {
      "cell_type": "code",
      "source": [
        "#Combine text with Numpy function\n",
        "print(f\"Adding {array1} with {array2}\")\n",
        "print(f\"Result: {np.add(array1, array2)}\")"
      ],
      "metadata": {
        "colab": {
          "base_uri": "https://localhost:8080/"
        },
        "id": "g1L-t79Uc5T4",
        "outputId": "1ae91e54-1d93-4d8a-a004-8f3f6c034d23"
      },
      "execution_count": 4,
      "outputs": [
        {
          "output_type": "stream",
          "name": "stdout",
          "text": [
            "Adding [1 2 3 4] with [1 2 3 4]\n",
            "Result: [2 4 6 8]\n"
          ]
        }
      ]
    },
    {
      "cell_type": "code",
      "source": [
        "#Find the Sin, Log, Log2, Exp values\n",
        "print(f\"sin value of array1:{np.sin(array1)}\")\n",
        "print(f\"Log value of array1:{np.log(array1)}\")\n",
        "print(f\"Log base 2 value of array1:{np.log2(array1)}\")\n",
        "print(f\"Log base 10 value of array1:{np.log10(array1)}\")\n",
        "print(f\"Exponential value of array1:{np.exp(array1)}\")"
      ],
      "metadata": {
        "colab": {
          "base_uri": "https://localhost:8080/"
        },
        "id": "mxSDqp8kdAUS",
        "outputId": "3c0e212e-7c43-40d3-8caf-0e4872aec753"
      },
      "execution_count": 5,
      "outputs": [
        {
          "output_type": "stream",
          "name": "stdout",
          "text": [
            "sin value of array1:[ 0.84147098  0.90929743  0.14112001 -0.7568025 ]\n",
            "Log value of array1:[0.         0.69314718 1.09861229 1.38629436]\n",
            "Log base 2 value of array1:[0.        1.        1.5849625 2.       ]\n",
            "Log base 10 value of array1:[0.         0.30103    0.47712125 0.60205999]\n",
            "Exponential value of array1:[ 2.71828183  7.3890561  20.08553692 54.59815003]\n"
          ]
        }
      ]
    },
    {
      "cell_type": "markdown",
      "source": [
        "Part 2: Visualize the datasets using matplotlib libraries"
      ],
      "metadata": {
        "id": "RqC4l4vqdN3k"
      }
    },
    {
      "cell_type": "code",
      "source": [
        "#Create the DataSet\n",
        "people = ['ajay','varun','akash','arun','arjun']\n",
        "age = [23,24,25,18,28]\n",
        "weight = [70,71,72,73,74]\n",
        "height = [170,171,172,174,175]"
      ],
      "metadata": {
        "id": "59GGLKucdQzh"
      },
      "execution_count": 6,
      "outputs": []
    },
    {
      "cell_type": "code",
      "source": [
        "import matplotlib.pyplot as plt"
      ],
      "metadata": {
        "id": "zExxh6evdjMt"
      },
      "execution_count": 7,
      "outputs": []
    },
    {
      "cell_type": "code",
      "source": [],
      "metadata": {
        "id": "vVutTav4dq8e"
      },
      "execution_count": null,
      "outputs": []
    },
    {
      "cell_type": "code",
      "source": [
        "#Find the relationship between weight to height\n",
        "#generate a scatter plot to visualize the relationship\n",
        "plt.scatter(weight, height)\n",
        "plt.xlabel('weight')\n",
        "plt.ylabel('height')\n",
        "plt.title('Weight vs Height')\n",
        "plt.show()"
      ],
      "metadata": {
        "colab": {
          "base_uri": "https://localhost:8080/",
          "height": 472
        },
        "id": "3u055yOEdqc0",
        "outputId": "096feb95-f96d-4830-ffe3-9f3d1fadb733"
      },
      "execution_count": 8,
      "outputs": [
        {
          "output_type": "display_data",
          "data": {
            "text/plain": [
              "<Figure size 640x480 with 1 Axes>"
            ],
            "image/png": "[encoded data removed]"
          },
          "metadata": {}
        }
      ]
    },
    {
      "cell_type": "code",
      "source": [
        "#Generate the Histogram between people age to their Height\n",
        "plt.figure(figsize=(5,4))\n",
        "plt.hist(weight, height)\n",
        "plt.xlabel('weight')\n",
        "plt.ylabel('Height')\n",
        "plt.title('Weight vs Height')\n",
        "plt.show()"
      ],
      "metadata": {
        "id": "DNL5sFV0dvQE"
      },
      "execution_count": null,
      "outputs": []
    },
    {
      "cell_type": "code",
      "source": [
        "#generate the bar chart for people to their weight\n",
        "plt.figure(figsize=(5,4))\n",
        "plt.bar(people, weight)\n",
        "plt.xlabel('people')\n",
        "plt.ylabel('weight')\n",
        "plt.title('people vs weight')\n",
        "plt.show()\n"
      ],
      "metadata": {
        "colab": {
          "base_uri": "https://localhost:8080/",
          "height": 410
        },
        "id": "r-RJf5YJePuP",
        "outputId": "321d765e-7963-4e5b-b6f5-d1fba77b6b95"
      },
      "execution_count": 11,
      "outputs": [
        {
          "output_type": "display_data",
          "data": {
            "text/plain": [
              "<Figure size 500x400 with 1 Axes>"
            ],
            "image/png": "[encoded data removed]"
          },
          "metadata": {}
        }
      ]
    }
  ]
}